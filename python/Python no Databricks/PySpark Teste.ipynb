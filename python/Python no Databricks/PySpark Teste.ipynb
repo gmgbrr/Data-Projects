{
 "cells": [
  {
   "cell_type": "markdown",
   "metadata": {
    "application/vnd.databricks.v1+cell": {
     "cellMetadata": {
      "byteLimit": 2048000,
      "rowLimit": 10000
     },
     "inputWidgets": {},
     "nuid": "5c592a6a-f22d-4a07-b9e5-ca610767d68f",
     "showTitle": false,
     "title": ""
    }
   },
   "source": [
    "01 - Carregar Data"
   ]
  },
  {
   "cell_type": "code",
   "execution_count": 0,
   "metadata": {
    "application/vnd.databricks.v1+cell": {
     "cellMetadata": {
      "byteLimit": 2048000,
      "rowLimit": 10000
     },
     "inputWidgets": {},
     "nuid": "e9df9ea9-d173-45f3-9191-321e8c757fab",
     "showTitle": false,
     "title": ""
    }
   },
   "outputs": [
    {
     "output_type": "display_data",
     "data": {
      "text/html": [
       "<style scoped>\n",
       "  .table-result-container {\n",
       "    max-height: 300px;\n",
       "    overflow: auto;\n",
       "  }\n",
       "  table, th, td {\n",
       "    border: 1px solid black;\n",
       "    border-collapse: collapse;\n",
       "  }\n",
       "  th, td {\n",
       "    padding: 5px;\n",
       "  }\n",
       "  th {\n",
       "    text-align: left;\n",
       "  }\n",
       "</style><div class='table-result-container'><table class='table-result'><thead style='background-color: white'><tr><th>id_carro</th><th>modelo_carro</th><th>preco</th><th>cod_marca</th></tr></thead><tbody><tr><td>1</td><td>Avalon</td><td>$78401.95</td><td>54</td></tr><tr><td>2</td><td>RDX</td><td>$95987.38</td><td>1</td></tr><tr><td>3</td><td>Golf</td><td>$61274.55</td><td>55</td></tr><tr><td>4</td><td>EX</td><td>$84981.12</td><td>23</td></tr><tr><td>5</td><td>Escort</td><td>$77466.89</td><td>17</td></tr><tr><td>6</td><td>Expedition</td><td>$84698.71</td><td>17</td></tr><tr><td>7</td><td>Voyager</td><td>$95567.75</td><td>42</td></tr><tr><td>8</td><td>Civic</td><td>$84749.22</td><td>20</td></tr><tr><td>9</td><td>Defender</td><td>$98600.79</td><td>29</td></tr><tr><td>10</td><td>V8 Vantage S</td><td>$94791.61</td><td>2</td></tr></tbody></table></div>"
      ]
     },
     "metadata": {
      "application/vnd.databricks.v1+output": {
       "addedWidgets": {},
       "aggData": [],
       "aggError": "",
       "aggOverflow": false,
       "aggSchema": [],
       "aggSeriesLimitReached": false,
       "aggType": "",
       "arguments": {},
       "columnCustomDisplayInfos": {},
       "data": [
        [
         "1",
         "Avalon",
         "$78401.95",
         "54"
        ],
        [
         "2",
         "RDX",
         "$95987.38",
         "1"
        ],
        [
         "3",
         "Golf",
         "$61274.55",
         "55"
        ],
        [
         "4",
         "EX",
         "$84981.12",
         "23"
        ],
        [
         "5",
         "Escort",
         "$77466.89",
         "17"
        ],
        [
         "6",
         "Expedition",
         "$84698.71",
         "17"
        ],
        [
         "7",
         "Voyager",
         "$95567.75",
         "42"
        ],
        [
         "8",
         "Civic",
         "$84749.22",
         "20"
        ],
        [
         "9",
         "Defender",
         "$98600.79",
         "29"
        ],
        [
         "10",
         "V8 Vantage S",
         "$94791.61",
         "2"
        ]
       ],
       "datasetInfos": [],
       "dbfsResultPath": null,
       "isJsonSchema": true,
       "metadata": {},
       "overflow": false,
       "plotOptions": {
        "customPlotOptions": {},
        "displayType": "table",
        "pivotAggregation": null,
        "pivotColumns": null,
        "xColumns": null,
        "yColumns": null
       },
       "removedWidgets": [],
       "schema": [
        {
         "metadata": "{}",
         "name": "id_carro",
         "type": "\"string\""
        },
        {
         "metadata": "{}",
         "name": "modelo_carro",
         "type": "\"string\""
        },
        {
         "metadata": "{}",
         "name": "preco",
         "type": "\"string\""
        },
        {
         "metadata": "{}",
         "name": "cod_marca",
         "type": "\"string\""
        }
       ],
       "type": "table"
      }
     },
     "output_type": "display_data"
    }
   ],
   "source": [
    "from pyspark.sql.functions import *\n",
    "from pyspark.sql.types import *\n",
    "from pyspark.sql.window import Window\n",
    "\n",
    "df1 = spark.read.format(\"csv\").option(\"header\", \"true\").load(\"dbfs:/FileStore/shared_uploads/gabrielmarinho0812@gmail.com/marca_carro.csv\")\n",
    "df2 = spark.read.format(\"csv\").option(\"header\", \"true\").load(\"dbfs:/FileStore/shared_uploads/gabrielmarinho0812@gmail.com/marcas_duplicadas.csv\")\n",
    "df3 = spark.read.format(\"csv\").option(\"header\", \"true\").load(\"dbfs:/FileStore/shared_uploads/gabrielmarinho0812@gmail.com/modelo_carro.csv\")\n",
    "\n",
    "df3.limit(10).display()"
   ]
  },
  {
   "cell_type": "code",
   "execution_count": 0,
   "metadata": {
    "application/vnd.databricks.v1+cell": {
     "cellMetadata": {
      "byteLimit": 2048000,
      "rowLimit": 10000
     },
     "inputWidgets": {},
     "nuid": "284fe3e2-c16a-4401-9738-f0e55d46e343",
     "showTitle": false,
     "title": ""
    }
   },
   "outputs": [],
   "source": [
    "df1.write.format(\"csv\").option(\"header\", True).mode(\"overwrite\").save(\"/teste/marca_carro\")\n",
    "df2.write.format(\"csv\").option(\"header\", True).mode(\"overwrite\").save(\"/teste/marcas_duplicadas\")\n",
    "df3.write.format(\"csv\").option(\"header\", True).mode(\"overwrite\").save(\"/teste/modelo_carro\")"
   ]
  },
  {
   "cell_type": "code",
   "execution_count": 0,
   "metadata": {
    "application/vnd.databricks.v1+cell": {
     "cellMetadata": {
      "byteLimit": 2048000,
      "rowLimit": 10000
     },
     "inputWidgets": {},
     "nuid": "c8dddcd1-4a3e-4b1d-b752-63b2275d6b01",
     "showTitle": false,
     "title": ""
    }
   },
   "outputs": [
    {
     "output_type": "display_data",
     "data": {
      "text/html": [
       "<style scoped>\n",
       "  .table-result-container {\n",
       "    max-height: 300px;\n",
       "    overflow: auto;\n",
       "  }\n",
       "  table, th, td {\n",
       "    border: 1px solid black;\n",
       "    border-collapse: collapse;\n",
       "  }\n",
       "  th, td {\n",
       "    padding: 5px;\n",
       "  }\n",
       "  th {\n",
       "    text-align: left;\n",
       "  }\n",
       "</style><div class='table-result-container'><table class='table-result'><thead style='background-color: white'><tr><th>marca_carro</th><th>cod_marca</th></tr></thead><tbody><tr><td>Acura</td><td>1</td></tr><tr><td>Aston Martin</td><td>2</td></tr><tr><td>Audi</td><td>3</td></tr><tr><td>Austin</td><td>4</td></tr><tr><td>BMW</td><td>5</td></tr><tr><td>Bentley</td><td>6</td></tr><tr><td>Bugatti</td><td>7</td></tr><tr><td>Buick</td><td>8</td></tr><tr><td>Cadillac</td><td>9</td></tr><tr><td>Chevrolet</td><td>10</td></tr></tbody></table></div>"
      ]
     },
     "metadata": {
      "application/vnd.databricks.v1+output": {
       "addedWidgets": {},
       "aggData": [],
       "aggError": "",
       "aggOverflow": false,
       "aggSchema": [],
       "aggSeriesLimitReached": false,
       "aggType": "",
       "arguments": {},
       "columnCustomDisplayInfos": {},
       "data": [
        [
         "Acura",
         "1"
        ],
        [
         "Aston Martin",
         "2"
        ],
        [
         "Audi",
         "3"
        ],
        [
         "Austin",
         "4"
        ],
        [
         "BMW",
         "5"
        ],
        [
         "Bentley",
         "6"
        ],
        [
         "Bugatti",
         "7"
        ],
        [
         "Buick",
         "8"
        ],
        [
         "Cadillac",
         "9"
        ],
        [
         "Chevrolet",
         "10"
        ]
       ],
       "datasetInfos": [],
       "dbfsResultPath": null,
       "isJsonSchema": true,
       "metadata": {},
       "overflow": false,
       "plotOptions": {
        "customPlotOptions": {},
        "displayType": "table",
        "pivotAggregation": null,
        "pivotColumns": null,
        "xColumns": null,
        "yColumns": null
       },
       "removedWidgets": [],
       "schema": [
        {
         "metadata": "{}",
         "name": "marca_carro",
         "type": "\"string\""
        },
        {
         "metadata": "{}",
         "name": "cod_marca",
         "type": "\"string\""
        }
       ],
       "type": "table"
      }
     },
     "output_type": "display_data"
    },
    {
     "output_type": "display_data",
     "data": {
      "text/html": [
       "<style scoped>\n",
       "  .table-result-container {\n",
       "    max-height: 300px;\n",
       "    overflow: auto;\n",
       "  }\n",
       "  table, th, td {\n",
       "    border: 1px solid black;\n",
       "    border-collapse: collapse;\n",
       "  }\n",
       "  th, td {\n",
       "    padding: 5px;\n",
       "  }\n",
       "  th {\n",
       "    text-align: left;\n",
       "  }\n",
       "</style><div class='table-result-container'><table class='table-result'><thead style='background-color: white'><tr><th>marca_carro</th><th>cod_marca</th></tr></thead><tbody><tr><td>Acura</td><td>1</td></tr><tr><td>Aston Martin</td><td>2</td></tr><tr><td>Audi</td><td>3</td></tr><tr><td>Austin</td><td>4</td></tr><tr><td>BMW</td><td>5</td></tr><tr><td>Bentley</td><td>6</td></tr><tr><td>Bugatti</td><td>7</td></tr><tr><td>Buick</td><td>8</td></tr><tr><td>Cadillac</td><td>9</td></tr><tr><td>Chevrolet</td><td>10</td></tr></tbody></table></div>"
      ]
     },
     "metadata": {
      "application/vnd.databricks.v1+output": {
       "addedWidgets": {},
       "aggData": [],
       "aggError": "",
       "aggOverflow": false,
       "aggSchema": [],
       "aggSeriesLimitReached": false,
       "aggType": "",
       "arguments": {},
       "columnCustomDisplayInfos": {},
       "data": [
        [
         "Acura",
         "1"
        ],
        [
         "Aston Martin",
         "2"
        ],
        [
         "Audi",
         "3"
        ],
        [
         "Austin",
         "4"
        ],
        [
         "BMW",
         "5"
        ],
        [
         "Bentley",
         "6"
        ],
        [
         "Bugatti",
         "7"
        ],
        [
         "Buick",
         "8"
        ],
        [
         "Cadillac",
         "9"
        ],
        [
         "Chevrolet",
         "10"
        ]
       ],
       "datasetInfos": [],
       "dbfsResultPath": null,
       "isJsonSchema": true,
       "metadata": {},
       "overflow": false,
       "plotOptions": {
        "customPlotOptions": {},
        "displayType": "table",
        "pivotAggregation": null,
        "pivotColumns": null,
        "xColumns": null,
        "yColumns": null
       },
       "removedWidgets": [],
       "schema": [
        {
         "metadata": "{}",
         "name": "marca_carro",
         "type": "\"string\""
        },
        {
         "metadata": "{}",
         "name": "cod_marca",
         "type": "\"string\""
        }
       ],
       "type": "table"
      }
     },
     "output_type": "display_data"
    }
   ],
   "source": [
    "df1.limit(10).display()\n",
    "df_marca = spark.read.format(\"csv\").option(\"header\", True).load(\"/teste/marca_carro\")\n",
    "df_marca.limit(10).display()"
   ]
  },
  {
   "cell_type": "markdown",
   "metadata": {
    "application/vnd.databricks.v1+cell": {
     "cellMetadata": {
      "byteLimit": 2048000,
      "rowLimit": 10000
     },
     "inputWidgets": {},
     "nuid": "11df6c3f-df7f-4e6b-af3c-9d6060d11b5e",
     "showTitle": false,
     "title": ""
    }
   },
   "source": [
    "02 - Select e SQL\n"
   ]
  },
  {
   "cell_type": "code",
   "execution_count": 0,
   "metadata": {
    "application/vnd.databricks.v1+cell": {
     "cellMetadata": {
      "byteLimit": 2048000,
      "rowLimit": 10000
     },
     "inputWidgets": {},
     "nuid": "253cc642-4a91-4916-8ee0-467b1d0d747a",
     "showTitle": false,
     "title": ""
    }
   },
   "outputs": [
    {
     "output_type": "display_data",
     "data": {
      "text/html": [
       "<style scoped>\n",
       "  .table-result-container {\n",
       "    max-height: 300px;\n",
       "    overflow: auto;\n",
       "  }\n",
       "  table, th, td {\n",
       "    border: 1px solid black;\n",
       "    border-collapse: collapse;\n",
       "  }\n",
       "  th, td {\n",
       "    padding: 5px;\n",
       "  }\n",
       "  th {\n",
       "    text-align: left;\n",
       "  }\n",
       "</style><div class='table-result-container'><table class='table-result'><thead style='background-color: white'><tr><th>Modelo</th><th>Preco</th></tr></thead><tbody><tr><td>Avalon</td><td>$78401.95</td></tr><tr><td>RDX</td><td>$95987.38</td></tr><tr><td>Golf</td><td>$61274.55</td></tr><tr><td>EX</td><td>$84981.12</td></tr><tr><td>Escort</td><td>$77466.89</td></tr><tr><td>Expedition</td><td>$84698.71</td></tr><tr><td>Voyager</td><td>$95567.75</td></tr><tr><td>Civic</td><td>$84749.22</td></tr><tr><td>Defender</td><td>$98600.79</td></tr><tr><td>V8 Vantage S</td><td>$94791.61</td></tr></tbody></table></div>"
      ]
     },
     "metadata": {
      "application/vnd.databricks.v1+output": {
       "addedWidgets": {},
       "aggData": [],
       "aggError": "",
       "aggOverflow": false,
       "aggSchema": [],
       "aggSeriesLimitReached": false,
       "aggType": "",
       "arguments": {},
       "columnCustomDisplayInfos": {},
       "data": [
        [
         "Avalon",
         "$78401.95"
        ],
        [
         "RDX",
         "$95987.38"
        ],
        [
         "Golf",
         "$61274.55"
        ],
        [
         "EX",
         "$84981.12"
        ],
        [
         "Escort",
         "$77466.89"
        ],
        [
         "Expedition",
         "$84698.71"
        ],
        [
         "Voyager",
         "$95567.75"
        ],
        [
         "Civic",
         "$84749.22"
        ],
        [
         "Defender",
         "$98600.79"
        ],
        [
         "V8 Vantage S",
         "$94791.61"
        ]
       ],
       "datasetInfos": [],
       "dbfsResultPath": null,
       "isJsonSchema": true,
       "metadata": {},
       "overflow": false,
       "plotOptions": {
        "customPlotOptions": {},
        "displayType": "table",
        "pivotAggregation": null,
        "pivotColumns": null,
        "xColumns": null,
        "yColumns": null
       },
       "removedWidgets": [],
       "schema": [
        {
         "metadata": "{}",
         "name": "Modelo",
         "type": "\"string\""
        },
        {
         "metadata": "{}",
         "name": "Preco",
         "type": "\"string\""
        }
       ],
       "type": "table"
      }
     },
     "output_type": "display_data"
    }
   ],
   "source": [
    "df_carros = spark.read.format(\"csv\").option(\"header\", True).load(\"/teste/modelo_carro\")\n",
    "df_carros.createOrReplaceTempView(\"carros\")\n",
    "df_marca.createOrReplaceTempView(\"marca\")\n",
    "\n",
    "df_carros = spark.sql(\"\"\"\n",
    "    select modelo_carro as Modelo, preco as Preco from carros\n",
    "\"\"\")\n",
    "\n",
    "df_carros.limit(10).display()"
   ]
  },
  {
   "cell_type": "code",
   "execution_count": 0,
   "metadata": {
    "application/vnd.databricks.v1+cell": {
     "cellMetadata": {
      "byteLimit": 2048000,
      "implicitDf": true,
      "rowLimit": 10000
     },
     "inputWidgets": {},
     "nuid": "2d8ce899-1c61-46c5-bfa2-4e2c978e163e",
     "showTitle": false,
     "title": ""
    }
   },
   "outputs": [
    {
     "output_type": "display_data",
     "data": {
      "text/html": [
       "<style scoped>\n",
       "  .table-result-container {\n",
       "    max-height: 300px;\n",
       "    overflow: auto;\n",
       "  }\n",
       "  table, th, td {\n",
       "    border: 1px solid black;\n",
       "    border-collapse: collapse;\n",
       "  }\n",
       "  th, td {\n",
       "    padding: 5px;\n",
       "  }\n",
       "  th {\n",
       "    text-align: left;\n",
       "  }\n",
       "</style><div class='table-result-container'><table class='table-result'><thead style='background-color: white'><tr><th>Modelo</th><th>Preco</th><th>Marca</th></tr></thead><tbody><tr><td>Avalon</td><td>$78401.95</td><td>Toyota</td></tr><tr><td>RDX</td><td>$95987.38</td><td>Acura</td></tr><tr><td>Golf</td><td>$61274.55</td><td>Volkswagen</td></tr><tr><td>EX</td><td>$84981.12</td><td>Infiniti</td></tr><tr><td>Escort</td><td>$77466.89</td><td>Ford</td></tr><tr><td>Expedition</td><td>$84698.71</td><td>Ford</td></tr><tr><td>Voyager</td><td>$95567.75</td><td>Plymouth</td></tr><tr><td>Civic</td><td>$84749.22</td><td>Honda</td></tr><tr><td>Defender</td><td>$98600.79</td><td>Land Rover</td></tr><tr><td>V8 Vantage S</td><td>$94791.61</td><td>Aston Martin</td></tr></tbody></table></div>"
      ]
     },
     "metadata": {
      "application/vnd.databricks.v1+output": {
       "addedWidgets": {},
       "aggData": [],
       "aggError": "",
       "aggOverflow": false,
       "aggSchema": [],
       "aggSeriesLimitReached": false,
       "aggType": "",
       "arguments": {},
       "columnCustomDisplayInfos": {},
       "data": [
        [
         "Avalon",
         "$78401.95",
         "Toyota"
        ],
        [
         "RDX",
         "$95987.38",
         "Acura"
        ],
        [
         "Golf",
         "$61274.55",
         "Volkswagen"
        ],
        [
         "EX",
         "$84981.12",
         "Infiniti"
        ],
        [
         "Escort",
         "$77466.89",
         "Ford"
        ],
        [
         "Expedition",
         "$84698.71",
         "Ford"
        ],
        [
         "Voyager",
         "$95567.75",
         "Plymouth"
        ],
        [
         "Civic",
         "$84749.22",
         "Honda"
        ],
        [
         "Defender",
         "$98600.79",
         "Land Rover"
        ],
        [
         "V8 Vantage S",
         "$94791.61",
         "Aston Martin"
        ]
       ],
       "datasetInfos": [],
       "dbfsResultPath": null,
       "isJsonSchema": true,
       "metadata": {},
       "overflow": false,
       "plotOptions": {
        "customPlotOptions": {},
        "displayType": "table",
        "pivotAggregation": null,
        "pivotColumns": null,
        "xColumns": null,
        "yColumns": null
       },
       "removedWidgets": [],
       "schema": [
        {
         "metadata": "{}",
         "name": "Modelo",
         "type": "\"string\""
        },
        {
         "metadata": "{}",
         "name": "Preco",
         "type": "\"string\""
        },
        {
         "metadata": "{}",
         "name": "Marca",
         "type": "\"string\""
        }
       ],
       "type": "table"
      }
     },
     "output_type": "display_data"
    }
   ],
   "source": [
    "%sql\n",
    "\n",
    "select modelo_carro as Modelo, preco as Preco, marca_carro as Marca from carros\n",
    "inner join marca\n",
    "on carros.cod_marca = marca.cod_marca\n",
    "where id_carro <= 10"
   ]
  },
  {
   "cell_type": "markdown",
   "metadata": {
    "application/vnd.databricks.v1+cell": {
     "cellMetadata": {
      "byteLimit": 2048000,
      "rowLimit": 10000
     },
     "inputWidgets": {},
     "nuid": "2ab90aae-6f89-4452-b51f-45a8a8bda8e6",
     "showTitle": false,
     "title": ""
    }
   },
   "source": [
    "03 - Filtrar Data"
   ]
  },
  {
   "cell_type": "code",
   "execution_count": 0,
   "metadata": {
    "application/vnd.databricks.v1+cell": {
     "cellMetadata": {
      "byteLimit": 2048000,
      "rowLimit": 10000
     },
     "inputWidgets": {},
     "nuid": "7dfd4fbe-71eb-423c-bacd-d3766e999e28",
     "showTitle": false,
     "title": ""
    }
   },
   "outputs": [
    {
     "output_type": "display_data",
     "data": {
      "text/html": [
       "<style scoped>\n",
       "  .table-result-container {\n",
       "    max-height: 300px;\n",
       "    overflow: auto;\n",
       "  }\n",
       "  table, th, td {\n",
       "    border: 1px solid black;\n",
       "    border-collapse: collapse;\n",
       "  }\n",
       "  th, td {\n",
       "    padding: 5px;\n",
       "  }\n",
       "  th {\n",
       "    text-align: left;\n",
       "  }\n",
       "</style><div class='table-result-container'><table class='table-result'><thead style='background-color: white'><tr><th>id_carro</th><th>modelo_carro</th><th>preco</th><th>cod_marca</th></tr></thead><tbody><tr><td>8</td><td>Civic</td><td>$84749.22</td><td>20</td></tr><tr><td>297</td><td>Civic</td><td>$96044.05</td><td>20</td></tr><tr><td>547</td><td>Civic</td><td>$92109.53</td><td>20</td></tr></tbody></table></div>"
      ]
     },
     "metadata": {
      "application/vnd.databricks.v1+output": {
       "addedWidgets": {},
       "aggData": [],
       "aggError": "",
       "aggOverflow": false,
       "aggSchema": [],
       "aggSeriesLimitReached": false,
       "aggType": "",
       "arguments": {},
       "columnCustomDisplayInfos": {},
       "data": [
        [
         "8",
         "Civic",
         "$84749.22",
         "20"
        ],
        [
         "297",
         "Civic",
         "$96044.05",
         "20"
        ],
        [
         "547",
         "Civic",
         "$92109.53",
         "20"
        ]
       ],
       "datasetInfos": [],
       "dbfsResultPath": null,
       "isJsonSchema": true,
       "metadata": {},
       "overflow": false,
       "plotOptions": {
        "customPlotOptions": {},
        "displayType": "table",
        "pivotAggregation": null,
        "pivotColumns": null,
        "xColumns": null,
        "yColumns": null
       },
       "removedWidgets": [],
       "schema": [
        {
         "metadata": "{}",
         "name": "id_carro",
         "type": "\"string\""
        },
        {
         "metadata": "{}",
         "name": "modelo_carro",
         "type": "\"string\""
        },
        {
         "metadata": "{}",
         "name": "preco",
         "type": "\"string\""
        },
        {
         "metadata": "{}",
         "name": "cod_marca",
         "type": "\"string\""
        }
       ],
       "type": "table"
      }
     },
     "output_type": "display_data"
    },
    {
     "output_type": "display_data",
     "data": {
      "text/html": [
       "<style scoped>\n",
       "  .table-result-container {\n",
       "    max-height: 300px;\n",
       "    overflow: auto;\n",
       "  }\n",
       "  table, th, td {\n",
       "    border: 1px solid black;\n",
       "    border-collapse: collapse;\n",
       "  }\n",
       "  th, td {\n",
       "    padding: 5px;\n",
       "  }\n",
       "  th {\n",
       "    text-align: left;\n",
       "  }\n",
       "</style><div class='table-result-container'><table class='table-result'><thead style='background-color: white'><tr><th>id_carro</th><th>modelo_carro</th><th>preco</th><th>cod_marca</th></tr></thead><tbody><tr><td>8</td><td>Civic</td><td>$84749.22</td><td>20</td></tr><tr><td>23</td><td>Accord</td><td>$67419.94</td><td>20</td></tr><tr><td>40</td><td>Fit</td><td>$55448.35</td><td>20</td></tr><tr><td>75</td><td>del Sol</td><td>$80291.13</td><td>20</td></tr><tr><td>87</td><td>Truck</td><td>$57007.15</td><td>39</td></tr><tr><td>132</td><td>Prelude</td><td>$73902.58</td><td>20</td></tr><tr><td>140</td><td>Odyssey</td><td>$91804.80</td><td>20</td></tr><tr><td>155</td><td>Ridgeline</td><td>$51724.74</td><td>20</td></tr><tr><td>188</td><td>Fit</td><td>$99627.45</td><td>20</td></tr><tr><td>203</td><td>Truck</td><td>$90769.69</td><td>39</td></tr></tbody></table></div>"
      ]
     },
     "metadata": {
      "application/vnd.databricks.v1+output": {
       "addedWidgets": {},
       "aggData": [],
       "aggError": "",
       "aggOverflow": false,
       "aggSchema": [],
       "aggSeriesLimitReached": false,
       "aggType": "",
       "arguments": {},
       "columnCustomDisplayInfos": {},
       "data": [
        [
         "8",
         "Civic",
         "$84749.22",
         "20"
        ],
        [
         "23",
         "Accord",
         "$67419.94",
         "20"
        ],
        [
         "40",
         "Fit",
         "$55448.35",
         "20"
        ],
        [
         "75",
         "del Sol",
         "$80291.13",
         "20"
        ],
        [
         "87",
         "Truck",
         "$57007.15",
         "39"
        ],
        [
         "132",
         "Prelude",
         "$73902.58",
         "20"
        ],
        [
         "140",
         "Odyssey",
         "$91804.80",
         "20"
        ],
        [
         "155",
         "Ridgeline",
         "$51724.74",
         "20"
        ],
        [
         "188",
         "Fit",
         "$99627.45",
         "20"
        ],
        [
         "203",
         "Truck",
         "$90769.69",
         "39"
        ]
       ],
       "datasetInfos": [],
       "dbfsResultPath": null,
       "isJsonSchema": true,
       "metadata": {},
       "overflow": false,
       "plotOptions": {
        "customPlotOptions": {},
        "displayType": "table",
        "pivotAggregation": null,
        "pivotColumns": null,
        "xColumns": null,
        "yColumns": null
       },
       "removedWidgets": [],
       "schema": [
        {
         "metadata": "{}",
         "name": "id_carro",
         "type": "\"string\""
        },
        {
         "metadata": "{}",
         "name": "modelo_carro",
         "type": "\"string\""
        },
        {
         "metadata": "{}",
         "name": "preco",
         "type": "\"string\""
        },
        {
         "metadata": "{}",
         "name": "cod_marca",
         "type": "\"string\""
        }
       ],
       "type": "table"
      }
     },
     "output_type": "display_data"
    }
   ],
   "source": [
    "df_carros = spark.read.format(\"csv\").option(\"header\", True).load(\"/teste/modelo_carro\")\n",
    "\n",
    "display(\n",
    "    df_carros.where(\"modelo_carro = 'Civic'\")\n",
    "    #df_carros.where(df_carros.modelo_carro == 'Civic')\n",
    "    #df_carros.where(df_carros['modelo_carro'] == 'Civic')   \n",
    ")\n",
    "\n",
    "\n",
    "df_carros.where((col(\"modelo_carro\") == \"Truck\") | (col(\"cod_marca\") == 20)).limit(10).display()\n"
   ]
  },
  {
   "cell_type": "markdown",
   "metadata": {
    "application/vnd.databricks.v1+cell": {
     "cellMetadata": {
      "byteLimit": 2048000,
      "rowLimit": 10000
     },
     "inputWidgets": {},
     "nuid": "6e575392-fc2b-423a-840a-da81dcab3b32",
     "showTitle": false,
     "title": ""
    }
   },
   "source": [
    "04 - Duplicatas e Replace"
   ]
  },
  {
   "cell_type": "code",
   "execution_count": 0,
   "metadata": {
    "application/vnd.databricks.v1+cell": {
     "cellMetadata": {
      "byteLimit": 2048000,
      "rowLimit": 10000
     },
     "inputWidgets": {},
     "nuid": "3a58f3ac-6f2c-4380-b32d-d383dff0c46d",
     "showTitle": false,
     "title": ""
    }
   },
   "outputs": [
    {
     "output_type": "display_data",
     "data": {
      "text/html": [
       "<style scoped>\n",
       "  .table-result-container {\n",
       "    max-height: 300px;\n",
       "    overflow: auto;\n",
       "  }\n",
       "  table, th, td {\n",
       "    border: 1px solid black;\n",
       "    border-collapse: collapse;\n",
       "  }\n",
       "  th, td {\n",
       "    padding: 5px;\n",
       "  }\n",
       "  th {\n",
       "    text-align: left;\n",
       "  }\n",
       "</style><div class='table-result-container'><table class='table-result'><thead style='background-color: white'><tr><th>id_carro</th><th>modelo_carro</th><th>preco</th><th>cod_marca</th></tr></thead><tbody><tr><td>3</td><td>Golf</td><td>61274.55</td><td>55</td></tr><tr><td>4</td><td>EX</td><td>84981.12</td><td>23</td></tr><tr><td>7</td><td>Voyager</td><td>95567.75</td><td>42</td></tr><tr><td>2</td><td>RDX</td><td>95987.38</td><td>1</td></tr><tr><td>8</td><td>Civic</td><td>84749.22</td><td>20</td></tr><tr><td>5</td><td>Escort</td><td>77466.89</td><td>17</td></tr><tr><td>1</td><td>Avalon</td><td>78401.95</td><td>54</td></tr><tr><td>6</td><td>Expedition</td><td>84698.71</td><td>17</td></tr><tr><td>9</td><td>Defender</td><td>98600.79</td><td>29</td></tr><tr><td>10</td><td>V8 Vantage S</td><td>94791.61</td><td>2</td></tr></tbody></table></div>"
      ]
     },
     "metadata": {
      "application/vnd.databricks.v1+output": {
       "addedWidgets": {},
       "aggData": [],
       "aggError": "",
       "aggOverflow": false,
       "aggSchema": [],
       "aggSeriesLimitReached": false,
       "aggType": "",
       "arguments": {},
       "columnCustomDisplayInfos": {},
       "data": [
        [
         "3",
         "Golf",
         "61274.55",
         "55"
        ],
        [
         "4",
         "EX",
         "84981.12",
         "23"
        ],
        [
         "7",
         "Voyager",
         "95567.75",
         "42"
        ],
        [
         "2",
         "RDX",
         "95987.38",
         "1"
        ],
        [
         "8",
         "Civic",
         "84749.22",
         "20"
        ],
        [
         "5",
         "Escort",
         "77466.89",
         "17"
        ],
        [
         "1",
         "Avalon",
         "78401.95",
         "54"
        ],
        [
         "6",
         "Expedition",
         "84698.71",
         "17"
        ],
        [
         "9",
         "Defender",
         "98600.79",
         "29"
        ],
        [
         "10",
         "V8 Vantage S",
         "94791.61",
         "2"
        ]
       ],
       "datasetInfos": [],
       "dbfsResultPath": null,
       "isJsonSchema": true,
       "metadata": {},
       "overflow": false,
       "plotOptions": {
        "customPlotOptions": {},
        "displayType": "table",
        "pivotAggregation": null,
        "pivotColumns": null,
        "xColumns": null,
        "yColumns": null
       },
       "removedWidgets": [],
       "schema": [
        {
         "metadata": "{}",
         "name": "id_carro",
         "type": "\"string\""
        },
        {
         "metadata": "{}",
         "name": "modelo_carro",
         "type": "\"string\""
        },
        {
         "metadata": "{}",
         "name": "preco",
         "type": "\"string\""
        },
        {
         "metadata": "{}",
         "name": "cod_marca",
         "type": "\"string\""
        }
       ],
       "type": "table"
      }
     },
     "output_type": "display_data"
    }
   ],
   "source": [
    "df_carros = df_carros.dropDuplicates()\n",
    "df_carros = df_carros.withColumn(\"preco\", regexp_replace('preco', \"\\$\", ''))\n",
    "\n",
    "df_carros.limit(10).display()"
   ]
  },
  {
   "cell_type": "markdown",
   "metadata": {
    "application/vnd.databricks.v1+cell": {
     "cellMetadata": {
      "byteLimit": 2048000,
      "rowLimit": 10000
     },
     "inputWidgets": {},
     "nuid": "bfaa7e62-5302-47c0-b914-4264a454db7f",
     "showTitle": false,
     "title": ""
    }
   },
   "source": [
    "05 - Conversão de tipo"
   ]
  },
  {
   "cell_type": "code",
   "execution_count": 0,
   "metadata": {
    "application/vnd.databricks.v1+cell": {
     "cellMetadata": {
      "byteLimit": 2048000,
      "rowLimit": 10000
     },
     "inputWidgets": {},
     "nuid": "1086734b-2c00-4ab8-b6c0-cacad4990524",
     "showTitle": false,
     "title": ""
    }
   },
   "outputs": [
    {
     "output_type": "display_data",
     "data": {
      "text/html": [
       "<style scoped>\n",
       "  .table-result-container {\n",
       "    max-height: 300px;\n",
       "    overflow: auto;\n",
       "  }\n",
       "  table, th, td {\n",
       "    border: 1px solid black;\n",
       "    border-collapse: collapse;\n",
       "  }\n",
       "  th, td {\n",
       "    padding: 5px;\n",
       "  }\n",
       "  th {\n",
       "    text-align: left;\n",
       "  }\n",
       "</style><div class='table-result-container'><table class='table-result'><thead style='background-color: white'><tr><th>id_carro</th><th>modelo_carro</th><th>preco</th><th>cod_marca</th></tr></thead><tbody><tr><td>3</td><td>Golf</td><td>61274.55</td><td>55</td></tr><tr><td>4</td><td>EX</td><td>84981.12</td><td>23</td></tr><tr><td>7</td><td>Voyager</td><td>95567.75</td><td>42</td></tr><tr><td>2</td><td>RDX</td><td>95987.38</td><td>1</td></tr><tr><td>8</td><td>Civic</td><td>84749.22</td><td>20</td></tr><tr><td>5</td><td>Escort</td><td>77466.89</td><td>17</td></tr><tr><td>1</td><td>Avalon</td><td>78401.95</td><td>54</td></tr><tr><td>6</td><td>Expedition</td><td>84698.71</td><td>17</td></tr><tr><td>9</td><td>Defender</td><td>98600.79</td><td>29</td></tr><tr><td>10</td><td>V8 Vantage S</td><td>94791.61</td><td>2</td></tr></tbody></table></div>"
      ]
     },
     "metadata": {
      "application/vnd.databricks.v1+output": {
       "addedWidgets": {},
       "aggData": [],
       "aggError": "",
       "aggOverflow": false,
       "aggSchema": [],
       "aggSeriesLimitReached": false,
       "aggType": "",
       "arguments": {},
       "columnCustomDisplayInfos": {},
       "data": [
        [
         3,
         "Golf",
         61274.55,
         55
        ],
        [
         4,
         "EX",
         84981.12,
         23
        ],
        [
         7,
         "Voyager",
         95567.75,
         42
        ],
        [
         2,
         "RDX",
         95987.38,
         1
        ],
        [
         8,
         "Civic",
         84749.22,
         20
        ],
        [
         5,
         "Escort",
         77466.89,
         17
        ],
        [
         1,
         "Avalon",
         78401.95,
         54
        ],
        [
         6,
         "Expedition",
         84698.71,
         17
        ],
        [
         9,
         "Defender",
         98600.79,
         29
        ],
        [
         10,
         "V8 Vantage S",
         94791.61,
         2
        ]
       ],
       "datasetInfos": [],
       "dbfsResultPath": null,
       "isJsonSchema": true,
       "metadata": {},
       "overflow": false,
       "plotOptions": {
        "customPlotOptions": {},
        "displayType": "table",
        "pivotAggregation": null,
        "pivotColumns": null,
        "xColumns": null,
        "yColumns": null
       },
       "removedWidgets": [],
       "schema": [
        {
         "metadata": "{}",
         "name": "id_carro",
         "type": "\"integer\""
        },
        {
         "metadata": "{}",
         "name": "modelo_carro",
         "type": "\"string\""
        },
        {
         "metadata": "{}",
         "name": "preco",
         "type": "\"double\""
        },
        {
         "metadata": "{}",
         "name": "cod_marca",
         "type": "\"integer\""
        }
       ],
       "type": "table"
      }
     },
     "output_type": "display_data"
    },
    {
     "output_type": "stream",
     "name": "stdout",
     "output_type": "stream",
     "text": [
      "root\n |-- id_carro: integer (nullable = true)\n |-- modelo_carro: string (nullable = true)\n |-- preco: double (nullable = true)\n |-- cod_marca: integer (nullable = true)\n\n"
     ]
    }
   ],
   "source": [
    "df_carros_sql = df_carros\n",
    "df_carros_sql.createOrReplaceTempView(\"carros\")\n",
    "\n",
    "df_carros_sql = spark.sql(\"\"\"\n",
    "\n",
    "    SELECT\n",
    "        cast(id_carro as INT) id_carro,\n",
    "        modelo_carro,\n",
    "        cast(preco as DOUBLE) preco,\n",
    "        cast(cod_marca as INT) cod_marca\n",
    "    FROM carros\n",
    "\"\"\")\n",
    "\n",
    "df_carros_sql.limit(10).display()\n",
    "df_carros_sql.printSchema()"
   ]
  },
  {
   "cell_type": "code",
   "execution_count": 0,
   "metadata": {
    "application/vnd.databricks.v1+cell": {
     "cellMetadata": {
      "byteLimit": 2048000,
      "rowLimit": 10000
     },
     "inputWidgets": {},
     "nuid": "475ad828-4512-4bbd-adea-7a8136770650",
     "showTitle": false,
     "title": ""
    }
   },
   "outputs": [
    {
     "output_type": "display_data",
     "data": {
      "text/html": [
       "<style scoped>\n",
       "  .table-result-container {\n",
       "    max-height: 300px;\n",
       "    overflow: auto;\n",
       "  }\n",
       "  table, th, td {\n",
       "    border: 1px solid black;\n",
       "    border-collapse: collapse;\n",
       "  }\n",
       "  th, td {\n",
       "    padding: 5px;\n",
       "  }\n",
       "  th {\n",
       "    text-align: left;\n",
       "  }\n",
       "</style><div class='table-result-container'><table class='table-result'><thead style='background-color: white'><tr><th>id_carro</th><th>modelo_carro</th><th>preco</th><th>cod_marca</th></tr></thead><tbody><tr><td>3</td><td>Golf</td><td>61274.55</td><td>55</td></tr><tr><td>4</td><td>EX</td><td>84981.12</td><td>23</td></tr><tr><td>7</td><td>Voyager</td><td>95567.75</td><td>42</td></tr><tr><td>2</td><td>RDX</td><td>95987.38</td><td>1</td></tr><tr><td>8</td><td>Civic</td><td>84749.22</td><td>20</td></tr><tr><td>5</td><td>Escort</td><td>77466.89</td><td>17</td></tr><tr><td>1</td><td>Avalon</td><td>78401.95</td><td>54</td></tr><tr><td>6</td><td>Expedition</td><td>84698.71</td><td>17</td></tr><tr><td>9</td><td>Defender</td><td>98600.79</td><td>29</td></tr><tr><td>10</td><td>V8 Vantage S</td><td>94791.61</td><td>2</td></tr></tbody></table></div>"
      ]
     },
     "metadata": {
      "application/vnd.databricks.v1+output": {
       "addedWidgets": {},
       "aggData": [],
       "aggError": "",
       "aggOverflow": false,
       "aggSchema": [],
       "aggSeriesLimitReached": false,
       "aggType": "",
       "arguments": {},
       "columnCustomDisplayInfos": {},
       "data": [
        [
         3,
         "Golf",
         61274.55,
         55
        ],
        [
         4,
         "EX",
         84981.12,
         23
        ],
        [
         7,
         "Voyager",
         95567.75,
         42
        ],
        [
         2,
         "RDX",
         95987.38,
         1
        ],
        [
         8,
         "Civic",
         84749.22,
         20
        ],
        [
         5,
         "Escort",
         77466.89,
         17
        ],
        [
         1,
         "Avalon",
         78401.95,
         54
        ],
        [
         6,
         "Expedition",
         84698.71,
         17
        ],
        [
         9,
         "Defender",
         98600.79,
         29
        ],
        [
         10,
         "V8 Vantage S",
         94791.61,
         2
        ]
       ],
       "datasetInfos": [],
       "dbfsResultPath": null,
       "isJsonSchema": true,
       "metadata": {},
       "overflow": false,
       "plotOptions": {
        "customPlotOptions": {},
        "displayType": "table",
        "pivotAggregation": null,
        "pivotColumns": null,
        "xColumns": null,
        "yColumns": null
       },
       "removedWidgets": [],
       "schema": [
        {
         "metadata": "{}",
         "name": "id_carro",
         "type": "\"integer\""
        },
        {
         "metadata": "{}",
         "name": "modelo_carro",
         "type": "\"string\""
        },
        {
         "metadata": "{}",
         "name": "preco",
         "type": "\"double\""
        },
        {
         "metadata": "{}",
         "name": "cod_marca",
         "type": "\"integer\""
        }
       ],
       "type": "table"
      }
     },
     "output_type": "display_data"
    },
    {
     "output_type": "stream",
     "name": "stdout",
     "output_type": "stream",
     "text": [
      "root\n |-- id_carro: integer (nullable = true)\n |-- modelo_carro: string (nullable = true)\n |-- preco: double (nullable = true)\n |-- cod_marca: integer (nullable = true)\n\n"
     ]
    }
   ],
   "source": [
    "df_carros_spark = df_carros\n",
    "\n",
    "df_carros_spark = df_carros_spark.withColumn(\n",
    "    \"id_carro\", col('id_carro').cast('int')\n",
    ").withColumn(\n",
    "    'preco', col('preco').cast('double')\n",
    ").withColumn(\n",
    "    'cod_marca', col('cod_marca').cast('int')\n",
    ")\n",
    "\n",
    "df_carros_spark.limit(10).display()\n",
    "df_carros_spark.printSchema()"
   ]
  },
  {
   "cell_type": "markdown",
   "metadata": {
    "application/vnd.databricks.v1+cell": {
     "cellMetadata": {
      "byteLimit": 2048000,
      "rowLimit": 10000
     },
     "inputWidgets": {},
     "nuid": "f3cf679d-7cdc-456d-83fc-83cf6372ab8b",
     "showTitle": false,
     "title": ""
    }
   },
   "source": [
    "07 - Like e Between"
   ]
  },
  {
   "cell_type": "code",
   "execution_count": 0,
   "metadata": {
    "application/vnd.databricks.v1+cell": {
     "cellMetadata": {
      "byteLimit": 2048000,
      "rowLimit": 10000
     },
     "inputWidgets": {},
     "nuid": "adc25a53-2bf8-4756-bfdd-78b526b6443d",
     "showTitle": false,
     "title": ""
    }
   },
   "outputs": [
    {
     "output_type": "display_data",
     "data": {
      "text/html": [
       "<style scoped>\n",
       "  .table-result-container {\n",
       "    max-height: 300px;\n",
       "    overflow: auto;\n",
       "  }\n",
       "  table, th, td {\n",
       "    border: 1px solid black;\n",
       "    border-collapse: collapse;\n",
       "  }\n",
       "  th, td {\n",
       "    padding: 5px;\n",
       "  }\n",
       "  th {\n",
       "    text-align: left;\n",
       "  }\n",
       "</style><div class='table-result-container'><table class='table-result'><thead style='background-color: white'><tr><th>id_carro</th><th>modelo_carro</th><th>preco</th><th>cod_marca</th></tr></thead><tbody><tr><td>257</td><td>Prelude</td><td>85968.61</td><td>20</td></tr><tr><td>318</td><td>Prelude</td><td>60673.19</td><td>20</td></tr><tr><td>132</td><td>Prelude</td><td>73902.58</td><td>20</td></tr></tbody></table></div>"
      ]
     },
     "metadata": {
      "application/vnd.databricks.v1+output": {
       "addedWidgets": {},
       "aggData": [],
       "aggError": "",
       "aggOverflow": false,
       "aggSchema": [],
       "aggSeriesLimitReached": false,
       "aggType": "",
       "arguments": {},
       "columnCustomDisplayInfos": {},
       "data": [
        [
         "257",
         "Prelude",
         "85968.61",
         "20"
        ],
        [
         "318",
         "Prelude",
         "60673.19",
         "20"
        ],
        [
         "132",
         "Prelude",
         "73902.58",
         "20"
        ]
       ],
       "datasetInfos": [],
       "dbfsResultPath": null,
       "isJsonSchema": true,
       "metadata": {},
       "overflow": false,
       "plotOptions": {
        "customPlotOptions": {},
        "displayType": "table",
        "pivotAggregation": null,
        "pivotColumns": null,
        "xColumns": null,
        "yColumns": null
       },
       "removedWidgets": [],
       "schema": [
        {
         "metadata": "{}",
         "name": "id_carro",
         "type": "\"string\""
        },
        {
         "metadata": "{}",
         "name": "modelo_carro",
         "type": "\"string\""
        },
        {
         "metadata": "{}",
         "name": "preco",
         "type": "\"string\""
        },
        {
         "metadata": "{}",
         "name": "cod_marca",
         "type": "\"string\""
        }
       ],
       "type": "table"
      }
     },
     "output_type": "display_data"
    },
    {
     "output_type": "display_data",
     "data": {
      "text/html": [
       "<style scoped>\n",
       "  .table-result-container {\n",
       "    max-height: 300px;\n",
       "    overflow: auto;\n",
       "  }\n",
       "  table, th, td {\n",
       "    border: 1px solid black;\n",
       "    border-collapse: collapse;\n",
       "  }\n",
       "  th, td {\n",
       "    padding: 5px;\n",
       "  }\n",
       "  th {\n",
       "    text-align: left;\n",
       "  }\n",
       "</style><div class='table-result-container'><table class='table-result'><thead style='background-color: white'><tr><th>id_carro</th><th>modelo_carro</th><th>preco</th><th>cod_marca</th></tr></thead><tbody><tr><td>326</td><td>RAV4</td><td>61721.30</td><td>54</td></tr><tr><td>318</td><td>Prelude</td><td>60673.19</td><td>20</td></tr><tr><td>70</td><td>I</td><td>60877.56</td><td>23</td></tr><tr><td>3</td><td>Golf</td><td>61274.55</td><td>55</td></tr><tr><td>419</td><td>RX</td><td>60724.95</td><td>30</td></tr><tr><td>261</td><td>Bonneville</td><td>60844.14</td><td>43</td></tr><tr><td>135</td><td>Solara</td><td>60334.46</td><td>54</td></tr><tr><td>322</td><td>Metro</td><td>61533.51</td><td>19</td></tr><tr><td>325</td><td>Express 1500</td><td>61925.86</td><td>10</td></tr><tr><td>60</td><td>RL</td><td>60125.97</td><td>1</td></tr></tbody></table></div>"
      ]
     },
     "metadata": {
      "application/vnd.databricks.v1+output": {
       "addedWidgets": {},
       "aggData": [],
       "aggError": "",
       "aggOverflow": false,
       "aggSchema": [],
       "aggSeriesLimitReached": false,
       "aggType": "",
       "arguments": {},
       "columnCustomDisplayInfos": {},
       "data": [
        [
         "326",
         "RAV4",
         "61721.30",
         "54"
        ],
        [
         "318",
         "Prelude",
         "60673.19",
         "20"
        ],
        [
         "70",
         "I",
         "60877.56",
         "23"
        ],
        [
         "3",
         "Golf",
         "61274.55",
         "55"
        ],
        [
         "419",
         "RX",
         "60724.95",
         "30"
        ],
        [
         "261",
         "Bonneville",
         "60844.14",
         "43"
        ],
        [
         "135",
         "Solara",
         "60334.46",
         "54"
        ],
        [
         "322",
         "Metro",
         "61533.51",
         "19"
        ],
        [
         "325",
         "Express 1500",
         "61925.86",
         "10"
        ],
        [
         "60",
         "RL",
         "60125.97",
         "1"
        ]
       ],
       "datasetInfos": [],
       "dbfsResultPath": null,
       "isJsonSchema": true,
       "metadata": {},
       "overflow": false,
       "plotOptions": {
        "customPlotOptions": {},
        "displayType": "table",
        "pivotAggregation": null,
        "pivotColumns": null,
        "xColumns": null,
        "yColumns": null
       },
       "removedWidgets": [],
       "schema": [
        {
         "metadata": "{}",
         "name": "id_carro",
         "type": "\"string\""
        },
        {
         "metadata": "{}",
         "name": "modelo_carro",
         "type": "\"string\""
        },
        {
         "metadata": "{}",
         "name": "preco",
         "type": "\"string\""
        },
        {
         "metadata": "{}",
         "name": "cod_marca",
         "type": "\"string\""
        }
       ],
       "type": "table"
      }
     },
     "output_type": "display_data"
    }
   ],
   "source": [
    "df_carros_like = df_carros\n",
    "df_carros_between = df_carros\n",
    "\n",
    "df_carros_like = df_carros_like.where(\n",
    "    col(\"modelo_carro\").like(\"%elud%\")\n",
    ")\n",
    "\n",
    "df_carros_between = df_carros_between.where(\n",
    "    col(\"preco\").between(60000, 62000)\n",
    ")\n",
    "\n",
    "df_carros_like.limit(10).display()\n",
    "df_carros_between.limit(10).display()"
   ]
  },
  {
   "cell_type": "markdown",
   "metadata": {
    "application/vnd.databricks.v1+cell": {
     "cellMetadata": {
      "byteLimit": 2048000,
      "rowLimit": 10000
     },
     "inputWidgets": {},
     "nuid": "b75a698f-3b91-4b30-ae62-5f99ca1a7c41",
     "showTitle": false,
     "title": ""
    }
   },
   "source": [
    "08 - Substring, RIGHT e LEFT"
   ]
  },
  {
   "cell_type": "code",
   "execution_count": 0,
   "metadata": {
    "application/vnd.databricks.v1+cell": {
     "cellMetadata": {
      "byteLimit": 2048000,
      "rowLimit": 10000
     },
     "inputWidgets": {},
     "nuid": "cb8e9352-c17e-47cd-a6db-a08a674a385b",
     "showTitle": false,
     "title": ""
    }
   },
   "outputs": [
    {
     "output_type": "display_data",
     "data": {
      "text/html": [
       "<style scoped>\n",
       "  .table-result-container {\n",
       "    max-height: 300px;\n",
       "    overflow: auto;\n",
       "  }\n",
       "  table, th, td {\n",
       "    border: 1px solid black;\n",
       "    border-collapse: collapse;\n",
       "  }\n",
       "  th, td {\n",
       "    padding: 5px;\n",
       "  }\n",
       "  th {\n",
       "    text-align: left;\n",
       "  }\n",
       "</style><div class='table-result-container'><table class='table-result'><thead style='background-color: white'><tr><th>id_carro</th><th>modelo_carro</th><th>preco</th><th>cod_marca</th><th>modelo_sub</th><th>modelo_left</th><th>modelo_right</th></tr></thead><tbody><tr><td>3</td><td>Golf</td><td>61274.55</td><td>55</td><td>olf</td><td>Gol</td><td>lf</td></tr><tr><td>4</td><td>EX</td><td>84981.12</td><td>23</td><td>X</td><td>EX</td><td>EX</td></tr><tr><td>7</td><td>Voyager</td><td>95567.75</td><td>42</td><td>oyag</td><td>Voy</td><td>er</td></tr><tr><td>2</td><td>RDX</td><td>95987.38</td><td>1</td><td>DX</td><td>RDX</td><td>DX</td></tr><tr><td>8</td><td>Civic</td><td>84749.22</td><td>20</td><td>ivic</td><td>Civ</td><td>ic</td></tr><tr><td>5</td><td>Escort</td><td>77466.89</td><td>17</td><td>scor</td><td>Esc</td><td>rt</td></tr><tr><td>1</td><td>Avalon</td><td>78401.95</td><td>54</td><td>valo</td><td>Ava</td><td>on</td></tr><tr><td>6</td><td>Expedition</td><td>84698.71</td><td>17</td><td>xped</td><td>Exp</td><td>on</td></tr><tr><td>9</td><td>Defender</td><td>98600.79</td><td>29</td><td>efen</td><td>Def</td><td>er</td></tr><tr><td>10</td><td>V8 Vantage S</td><td>94791.61</td><td>2</td><td>8 Va</td><td>V8 </td><td> S</td></tr></tbody></table></div>"
      ]
     },
     "metadata": {
      "application/vnd.databricks.v1+output": {
       "addedWidgets": {},
       "aggData": [],
       "aggError": "",
       "aggOverflow": false,
       "aggSchema": [],
       "aggSeriesLimitReached": false,
       "aggType": "",
       "arguments": {},
       "columnCustomDisplayInfos": {},
       "data": [
        [
         "3",
         "Golf",
         "61274.55",
         "55",
         "olf",
         "Gol",
         "lf"
        ],
        [
         "4",
         "EX",
         "84981.12",
         "23",
         "X",
         "EX",
         "EX"
        ],
        [
         "7",
         "Voyager",
         "95567.75",
         "42",
         "oyag",
         "Voy",
         "er"
        ],
        [
         "2",
         "RDX",
         "95987.38",
         "1",
         "DX",
         "RDX",
         "DX"
        ],
        [
         "8",
         "Civic",
         "84749.22",
         "20",
         "ivic",
         "Civ",
         "ic"
        ],
        [
         "5",
         "Escort",
         "77466.89",
         "17",
         "scor",
         "Esc",
         "rt"
        ],
        [
         "1",
         "Avalon",
         "78401.95",
         "54",
         "valo",
         "Ava",
         "on"
        ],
        [
         "6",
         "Expedition",
         "84698.71",
         "17",
         "xped",
         "Exp",
         "on"
        ],
        [
         "9",
         "Defender",
         "98600.79",
         "29",
         "efen",
         "Def",
         "er"
        ],
        [
         "10",
         "V8 Vantage S",
         "94791.61",
         "2",
         "8 Va",
         "V8 ",
         " S"
        ]
       ],
       "datasetInfos": [],
       "dbfsResultPath": null,
       "isJsonSchema": true,
       "metadata": {},
       "overflow": false,
       "plotOptions": {
        "customPlotOptions": {},
        "displayType": "table",
        "pivotAggregation": null,
        "pivotColumns": null,
        "xColumns": null,
        "yColumns": null
       },
       "removedWidgets": [],
       "schema": [
        {
         "metadata": "{}",
         "name": "id_carro",
         "type": "\"string\""
        },
        {
         "metadata": "{}",
         "name": "modelo_carro",
         "type": "\"string\""
        },
        {
         "metadata": "{}",
         "name": "preco",
         "type": "\"string\""
        },
        {
         "metadata": "{}",
         "name": "cod_marca",
         "type": "\"string\""
        },
        {
         "metadata": "{}",
         "name": "modelo_sub",
         "type": "\"string\""
        },
        {
         "metadata": "{}",
         "name": "modelo_left",
         "type": "\"string\""
        },
        {
         "metadata": "{}",
         "name": "modelo_right",
         "type": "\"string\""
        }
       ],
       "type": "table"
      }
     },
     "output_type": "display_data"
    }
   ],
   "source": [
    "df_carros_spark = df_carros\n",
    "\n",
    "df_carros_spark = df_carros_spark.withColumn(\n",
    "    \"modelo_sub\", substring(\"modelo_carro\", 2, 4)\n",
    ").withColumn(\n",
    "    \"modelo_left\", expr(\"LEFT(modelo_carro, 3)\")\n",
    ").withColumn(\n",
    "    \"modelo_right\", expr(\"RIGHT(modelo_carro, 2)\")\n",
    ")\n",
    "\n",
    "df_carros_spark.limit(10).display()"
   ]
  },
  {
   "cell_type": "markdown",
   "metadata": {
    "application/vnd.databricks.v1+cell": {
     "cellMetadata": {
      "byteLimit": 2048000,
      "rowLimit": 10000
     },
     "inputWidgets": {},
     "nuid": "ffd300ff-8a1a-486f-9e3b-cc6c86b67cea",
     "showTitle": false,
     "title": ""
    }
   },
   "source": [
    "09 - Tipando Data\n"
   ]
  },
  {
   "cell_type": "code",
   "execution_count": 0,
   "metadata": {
    "application/vnd.databricks.v1+cell": {
     "cellMetadata": {
      "byteLimit": 2048000,
      "rowLimit": 10000
     },
     "inputWidgets": {},
     "nuid": "6f66530b-92f8-47cb-b233-3c26f6b22cd8",
     "showTitle": false,
     "title": ""
    }
   },
   "outputs": [
    {
     "output_type": "display_data",
     "data": {
      "text/html": [
       "<style scoped>\n",
       "  .table-result-container {\n",
       "    max-height: 300px;\n",
       "    overflow: auto;\n",
       "  }\n",
       "  table, th, td {\n",
       "    border: 1px solid black;\n",
       "    border-collapse: collapse;\n",
       "  }\n",
       "  th, td {\n",
       "    padding: 5px;\n",
       "  }\n",
       "  th {\n",
       "    text-align: left;\n",
       "  }\n",
       "</style><div class='table-result-container'><table class='table-result'><thead style='background-color: white'><tr><th>datas</th></tr></thead><tbody><tr><td>2024-07-05T10:00:00.000+0000</td></tr><tr><td>2023-12-05T00:09:00.000+0000</td></tr><tr><td>2017-02-23T16:23:00.000+0000</td></tr></tbody></table></div>"
      ]
     },
     "metadata": {
      "application/vnd.databricks.v1+output": {
       "addedWidgets": {},
       "aggData": [],
       "aggError": "",
       "aggOverflow": false,
       "aggSchema": [],
       "aggSeriesLimitReached": false,
       "aggType": "",
       "arguments": {},
       "columnCustomDisplayInfos": {},
       "data": [
        [
         "2024-07-05T10:00:00.000+0000"
        ],
        [
         "2023-12-05T00:09:00.000+0000"
        ],
        [
         "2017-02-23T16:23:00.000+0000"
        ]
       ],
       "datasetInfos": [],
       "dbfsResultPath": null,
       "isJsonSchema": true,
       "metadata": {},
       "overflow": false,
       "plotOptions": {
        "customPlotOptions": {},
        "displayType": "table",
        "pivotAggregation": null,
        "pivotColumns": null,
        "xColumns": null,
        "yColumns": null
       },
       "removedWidgets": [],
       "schema": [
        {
         "metadata": "{}",
         "name": "datas",
         "type": "\"string\""
        }
       ],
       "type": "table"
      }
     },
     "output_type": "display_data"
    },
    {
     "output_type": "display_data",
     "data": {
      "text/html": [
       "<style scoped>\n",
       "  .table-result-container {\n",
       "    max-height: 300px;\n",
       "    overflow: auto;\n",
       "  }\n",
       "  table, th, td {\n",
       "    border: 1px solid black;\n",
       "    border-collapse: collapse;\n",
       "  }\n",
       "  th, td {\n",
       "    padding: 5px;\n",
       "  }\n",
       "  th {\n",
       "    text-align: left;\n",
       "  }\n",
       "</style><div class='table-result-container'><table class='table-result'><thead style='background-color: white'><tr><th>datas</th></tr></thead><tbody><tr><td>2021-07-05 10:00</td></tr><tr><td>2020-12-05 00:09</td></tr><tr><td>2024-02-23 16:23</td></tr></tbody></table></div>"
      ]
     },
     "metadata": {
      "application/vnd.databricks.v1+output": {
       "addedWidgets": {},
       "aggData": [],
       "aggError": "",
       "aggOverflow": false,
       "aggSchema": [],
       "aggSeriesLimitReached": false,
       "aggType": "",
       "arguments": {},
       "columnCustomDisplayInfos": {},
       "data": [
        [
         "2021-07-05 10:00"
        ],
        [
         "2020-12-05 00:09"
        ],
        [
         "2024-02-23 16:23"
        ]
       ],
       "datasetInfos": [],
       "dbfsResultPath": null,
       "isJsonSchema": true,
       "metadata": {},
       "overflow": false,
       "plotOptions": {
        "customPlotOptions": {},
        "displayType": "table",
        "pivotAggregation": null,
        "pivotColumns": null,
        "xColumns": null,
        "yColumns": null
       },
       "removedWidgets": [],
       "schema": [
        {
         "metadata": "{}",
         "name": "datas",
         "type": "\"string\""
        }
       ],
       "type": "table"
      }
     },
     "output_type": "display_data"
    },
    {
     "output_type": "display_data",
     "data": {
      "text/html": [
       "<style scoped>\n",
       "  .table-result-container {\n",
       "    max-height: 300px;\n",
       "    overflow: auto;\n",
       "  }\n",
       "  table, th, td {\n",
       "    border: 1px solid black;\n",
       "    border-collapse: collapse;\n",
       "  }\n",
       "  th, td {\n",
       "    padding: 5px;\n",
       "  }\n",
       "  th {\n",
       "    text-align: left;\n",
       "  }\n",
       "</style><div class='table-result-container'><table class='table-result'><thead style='background-color: white'><tr><th>datas</th></tr></thead><tbody><tr><td>05/07/2021</td></tr><tr><td>05/12/2020</td></tr><tr><td>23/02/2017</td></tr></tbody></table></div>"
      ]
     },
     "metadata": {
      "application/vnd.databricks.v1+output": {
       "addedWidgets": {},
       "aggData": [],
       "aggError": "",
       "aggOverflow": false,
       "aggSchema": [],
       "aggSeriesLimitReached": false,
       "aggType": "",
       "arguments": {},
       "columnCustomDisplayInfos": {},
       "data": [
        [
         "05/07/2021"
        ],
        [
         "05/12/2020"
        ],
        [
         "23/02/2017"
        ]
       ],
       "datasetInfos": [],
       "dbfsResultPath": null,
       "isJsonSchema": true,
       "metadata": {},
       "overflow": false,
       "plotOptions": {
        "customPlotOptions": {},
        "displayType": "table",
        "pivotAggregation": null,
        "pivotColumns": null,
        "xColumns": null,
        "yColumns": null
       },
       "removedWidgets": [],
       "schema": [
        {
         "metadata": "{}",
         "name": "datas",
         "type": "\"string\""
        }
       ],
       "type": "table"
      }
     },
     "output_type": "display_data"
    }
   ],
   "source": [
    "df_datas_1 = spark.createDataFrame([\"2024-07-05T10:00:00.000+0000\", \"2023-12-05T00:09:00.000+0000\", \"2017-02-23T16:23:00.000+0000\"], \"string\").toDF(\"datas\")\n",
    "df_datas_2 = spark.createDataFrame([\"2021-07-05 10:00\", \"2020-12-05 00:09\", \"2024-02-23 16:23\"], \"string\").toDF(\"datas\")\n",
    "df_datas_3 = spark.createDataFrame([\"05/07/2021\", \"05/12/2020\", \"23/02/2017\"], \"string\").toDF(\"datas\")\n",
    "\n",
    "display(df_datas_1)\n",
    "display(df_datas_2)\n",
    "display(df_datas_3)"
   ]
  },
  {
   "cell_type": "code",
   "execution_count": 0,
   "metadata": {
    "application/vnd.databricks.v1+cell": {
     "cellMetadata": {
      "byteLimit": 2048000,
      "rowLimit": 10000
     },
     "inputWidgets": {},
     "nuid": "ca0177cf-2421-4dab-86c0-38e2e282cc82",
     "showTitle": false,
     "title": ""
    }
   },
   "outputs": [
    {
     "output_type": "display_data",
     "data": {
      "text/html": [
       "<style scoped>\n",
       "  .table-result-container {\n",
       "    max-height: 300px;\n",
       "    overflow: auto;\n",
       "  }\n",
       "  table, th, td {\n",
       "    border: 1px solid black;\n",
       "    border-collapse: collapse;\n",
       "  }\n",
       "  th, td {\n",
       "    padding: 5px;\n",
       "  }\n",
       "  th {\n",
       "    text-align: left;\n",
       "  }\n",
       "</style><div class='table-result-container'><table class='table-result'><thead style='background-color: white'><tr><th>datas</th></tr></thead><tbody><tr><td>2024-07-05T10:00:00.000+0000</td></tr><tr><td>2023-12-05T00:09:00.000+0000</td></tr><tr><td>2017-02-23T16:23:00.000+0000</td></tr></tbody></table></div>"
      ]
     },
     "metadata": {
      "application/vnd.databricks.v1+output": {
       "addedWidgets": {},
       "aggData": [],
       "aggError": "",
       "aggOverflow": false,
       "aggSchema": [],
       "aggSeriesLimitReached": false,
       "aggType": "",
       "arguments": {},
       "columnCustomDisplayInfos": {},
       "data": [
        [
         "2024-07-05T10:00:00.000+0000"
        ],
        [
         "2023-12-05T00:09:00.000+0000"
        ],
        [
         "2017-02-23T16:23:00.000+0000"
        ]
       ],
       "datasetInfos": [],
       "dbfsResultPath": null,
       "isJsonSchema": true,
       "metadata": {},
       "overflow": false,
       "plotOptions": {
        "customPlotOptions": {},
        "displayType": "table",
        "pivotAggregation": null,
        "pivotColumns": null,
        "xColumns": null,
        "yColumns": null
       },
       "removedWidgets": [],
       "schema": [
        {
         "metadata": "{}",
         "name": "datas",
         "type": "\"timestamp\""
        }
       ],
       "type": "table"
      }
     },
     "output_type": "display_data"
    },
    {
     "output_type": "display_data",
     "data": {
      "text/html": [
       "<style scoped>\n",
       "  .table-result-container {\n",
       "    max-height: 300px;\n",
       "    overflow: auto;\n",
       "  }\n",
       "  table, th, td {\n",
       "    border: 1px solid black;\n",
       "    border-collapse: collapse;\n",
       "  }\n",
       "  th, td {\n",
       "    padding: 5px;\n",
       "  }\n",
       "  th {\n",
       "    text-align: left;\n",
       "  }\n",
       "</style><div class='table-result-container'><table class='table-result'><thead style='background-color: white'><tr><th>datas</th></tr></thead><tbody><tr><td>2021-07-05</td></tr><tr><td>2020-12-05</td></tr><tr><td>2024-02-23</td></tr></tbody></table></div>"
      ]
     },
     "metadata": {
      "application/vnd.databricks.v1+output": {
       "addedWidgets": {},
       "aggData": [],
       "aggError": "",
       "aggOverflow": false,
       "aggSchema": [],
       "aggSeriesLimitReached": false,
       "aggType": "",
       "arguments": {},
       "columnCustomDisplayInfos": {},
       "data": [
        [
         "2021-07-05"
        ],
        [
         "2020-12-05"
        ],
        [
         "2024-02-23"
        ]
       ],
       "datasetInfos": [],
       "dbfsResultPath": null,
       "isJsonSchema": true,
       "metadata": {},
       "overflow": false,
       "plotOptions": {
        "customPlotOptions": {},
        "displayType": "table",
        "pivotAggregation": null,
        "pivotColumns": null,
        "xColumns": null,
        "yColumns": null
       },
       "removedWidgets": [],
       "schema": [
        {
         "metadata": "{}",
         "name": "datas",
         "type": "\"date\""
        }
       ],
       "type": "table"
      }
     },
     "output_type": "display_data"
    },
    {
     "output_type": "display_data",
     "data": {
      "text/html": [
       "<style scoped>\n",
       "  .table-result-container {\n",
       "    max-height: 300px;\n",
       "    overflow: auto;\n",
       "  }\n",
       "  table, th, td {\n",
       "    border: 1px solid black;\n",
       "    border-collapse: collapse;\n",
       "  }\n",
       "  th, td {\n",
       "    padding: 5px;\n",
       "  }\n",
       "  th {\n",
       "    text-align: left;\n",
       "  }\n",
       "</style><div class='table-result-container'><table class='table-result'><thead style='background-color: white'><tr><th>datas</th></tr></thead><tbody><tr><td>05/07/2021</td></tr><tr><td>05/12/2020</td></tr><tr><td>23/02/2017</td></tr></tbody></table></div>"
      ]
     },
     "metadata": {
      "application/vnd.databricks.v1+output": {
       "addedWidgets": {},
       "aggData": [],
       "aggError": "",
       "aggOverflow": false,
       "aggSchema": [],
       "aggSeriesLimitReached": false,
       "aggType": "",
       "arguments": {},
       "columnCustomDisplayInfos": {},
       "data": [
        [
         "05/07/2021"
        ],
        [
         "05/12/2020"
        ],
        [
         "23/02/2017"
        ]
       ],
       "datasetInfos": [],
       "dbfsResultPath": null,
       "isJsonSchema": true,
       "metadata": {},
       "overflow": false,
       "plotOptions": {
        "customPlotOptions": {},
        "displayType": "table",
        "pivotAggregation": null,
        "pivotColumns": null,
        "xColumns": null,
        "yColumns": null
       },
       "removedWidgets": [],
       "schema": [
        {
         "metadata": "{}",
         "name": "datas",
         "type": "\"string\""
        }
       ],
       "type": "table"
      }
     },
     "output_type": "display_data"
    }
   ],
   "source": [
    "df_datas_1 = df_datas_1.withColumn(\"datas\", to_timestamp(\"datas\"))\n",
    "display(df_datas_1)\n",
    "\n",
    "df_datas_2 = df_datas_2.withColumn(\"datas\", to_date(\"datas\"))\n",
    "display(df_datas_2)\n",
    "\n",
    "df_datas_2 = df_datas_2.withColumn(\"datas\", to_date(\"datas\", \"dd/MM/yyyy\"))\n",
    "display(df_datas_3)"
   ]
  },
  {
   "cell_type": "markdown",
   "metadata": {
    "application/vnd.databricks.v1+cell": {
     "cellMetadata": {
      "byteLimit": 2048000,
      "rowLimit": 10000
     },
     "inputWidgets": {},
     "nuid": "e8b5c867-d0fa-47c5-8e9a-51a6e3fa4e0d",
     "showTitle": false,
     "title": ""
    }
   },
   "source": [
    "10 - Joins"
   ]
  },
  {
   "cell_type": "code",
   "execution_count": 0,
   "metadata": {
    "application/vnd.databricks.v1+cell": {
     "cellMetadata": {
      "byteLimit": 2048000,
      "rowLimit": 10000
     },
     "inputWidgets": {},
     "nuid": "3f1fc3b1-6531-4104-a274-3bf823bc4277",
     "showTitle": false,
     "title": ""
    }
   },
   "outputs": [
    {
     "output_type": "display_data",
     "data": {
      "text/html": [
       "<style scoped>\n",
       "  .table-result-container {\n",
       "    max-height: 300px;\n",
       "    overflow: auto;\n",
       "  }\n",
       "  table, th, td {\n",
       "    border: 1px solid black;\n",
       "    border-collapse: collapse;\n",
       "  }\n",
       "  th, td {\n",
       "    padding: 5px;\n",
       "  }\n",
       "  th {\n",
       "    text-align: left;\n",
       "  }\n",
       "</style><div class='table-result-container'><table class='table-result'><thead style='background-color: white'><tr><th>id_carro</th><th>modelo_carro</th><th>preco</th><th>cod_marca</th><th>marca_carro</th><th>cod_marca</th></tr></thead><tbody><tr><td>258</td><td>350Z</td><td>66988.47</td><td>40</td><td>Nissan</td><td>40</td></tr><tr><td>315</td><td>Sunfire</td><td>90444.00</td><td>43</td><td>Pontiac</td><td>43</td></tr><tr><td>336</td><td>S8</td><td>82025.61</td><td>3</td><td>Audi</td><td>3</td></tr><tr><td>620</td><td>DeVille</td><td>90011.48</td><td>9</td><td>Cadillac</td><td>9</td></tr><tr><td>129</td><td>IPL G</td><td>52861.75</td><td>23</td><td>Infiniti</td><td>23</td></tr><tr><td>166</td><td>Aveo</td><td>45082.42</td><td>10</td><td>Chevrolet</td><td>10</td></tr><tr><td>256</td><td>A8</td><td>68321.65</td><td>3</td><td>Audi</td><td>3</td></tr><tr><td>394</td><td>5 Series</td><td>59419.97</td><td>5</td><td>BMW</td><td>5</td></tr><tr><td>924</td><td>S10 Blazer</td><td>61391.36</td><td>10</td><td>Chevrolet</td><td>10</td></tr><tr><td>348</td><td>Escort</td><td>74133.01</td><td>17</td><td>Ford</td><td>17</td></tr></tbody></table></div>"
      ]
     },
     "metadata": {
      "application/vnd.databricks.v1+output": {
       "addedWidgets": {},
       "aggData": [],
       "aggError": "",
       "aggOverflow": false,
       "aggSchema": [],
       "aggSeriesLimitReached": false,
       "aggType": "",
       "arguments": {},
       "columnCustomDisplayInfos": {},
       "data": [
        [
         "258",
         "350Z",
         "66988.47",
         "40",
         "Nissan",
         "40"
        ],
        [
         "315",
         "Sunfire",
         "90444.00",
         "43",
         "Pontiac",
         "43"
        ],
        [
         "336",
         "S8",
         "82025.61",
         "3",
         "Audi",
         "3"
        ],
        [
         "620",
         "DeVille",
         "90011.48",
         "9",
         "Cadillac",
         "9"
        ],
        [
         "129",
         "IPL G",
         "52861.75",
         "23",
         "Infiniti",
         "23"
        ],
        [
         "166",
         "Aveo",
         "45082.42",
         "10",
         "Chevrolet",
         "10"
        ],
        [
         "256",
         "A8",
         "68321.65",
         "3",
         "Audi",
         "3"
        ],
        [
         "394",
         "5 Series",
         "59419.97",
         "5",
         "BMW",
         "5"
        ],
        [
         "924",
         "S10 Blazer",
         "61391.36",
         "10",
         "Chevrolet",
         "10"
        ],
        [
         "348",
         "Escort",
         "74133.01",
         "17",
         "Ford",
         "17"
        ]
       ],
       "datasetInfos": [],
       "dbfsResultPath": null,
       "isJsonSchema": true,
       "metadata": {},
       "overflow": false,
       "plotOptions": {
        "customPlotOptions": {},
        "displayType": "table",
        "pivotAggregation": null,
        "pivotColumns": null,
        "xColumns": null,
        "yColumns": null
       },
       "removedWidgets": [],
       "schema": [
        {
         "metadata": "{}",
         "name": "id_carro",
         "type": "\"string\""
        },
        {
         "metadata": "{}",
         "name": "modelo_carro",
         "type": "\"string\""
        },
        {
         "metadata": "{}",
         "name": "preco",
         "type": "\"string\""
        },
        {
         "metadata": "{}",
         "name": "cod_marca",
         "type": "\"string\""
        },
        {
         "metadata": "{}",
         "name": "marca_carro",
         "type": "\"string\""
        },
        {
         "metadata": "{}",
         "name": "cod_marca",
         "type": "\"string\""
        }
       ],
       "type": "table"
      }
     },
     "output_type": "display_data"
    },
    {
     "output_type": "display_data",
     "data": {
      "text/html": [
       "<style scoped>\n",
       "  .table-result-container {\n",
       "    max-height: 300px;\n",
       "    overflow: auto;\n",
       "  }\n",
       "  table, th, td {\n",
       "    border: 1px solid black;\n",
       "    border-collapse: collapse;\n",
       "  }\n",
       "  th, td {\n",
       "    padding: 5px;\n",
       "  }\n",
       "  th {\n",
       "    text-align: left;\n",
       "  }\n",
       "</style><div class='table-result-container'><table class='table-result'><thead style='background-color: white'><tr><th>id_carro</th><th>modelo_carro</th><th>preco</th><th>cod_marca</th><th>marca_carro</th><th>cod_marca</th></tr></thead><tbody><tr><td>5</td><td>Escort</td><td>77466.89</td><td>17</td><td>Ford</td><td>17</td></tr><tr><td>2</td><td>RDX</td><td>95987.38</td><td>1</td><td>Acura</td><td>1</td></tr><tr><td>1</td><td>Avalon</td><td>78401.95</td><td>54</td><td>Toyota</td><td>54</td></tr><tr><td>8</td><td>Civic</td><td>84749.22</td><td>20</td><td>Honda</td><td>20</td></tr><tr><td>9</td><td>Defender</td><td>98600.79</td><td>29</td><td>Land Rover</td><td>29</td></tr><tr><td>4</td><td>EX</td><td>84981.12</td><td>23</td><td>Infiniti</td><td>23</td></tr><tr><td>7</td><td>Voyager</td><td>95567.75</td><td>42</td><td>Plymouth</td><td>42</td></tr><tr><td>6</td><td>Expedition</td><td>84698.71</td><td>17</td><td>Ford</td><td>17</td></tr><tr><td>10</td><td>V8 Vantage S</td><td>94791.61</td><td>2</td><td>Aston Martin</td><td>2</td></tr><tr><td>3</td><td>Golf</td><td>61274.55</td><td>55</td><td>Volkswagen</td><td>55</td></tr></tbody></table></div>"
      ]
     },
     "metadata": {
      "application/vnd.databricks.v1+output": {
       "addedWidgets": {},
       "aggData": [],
       "aggError": "",
       "aggOverflow": false,
       "aggSchema": [],
       "aggSeriesLimitReached": false,
       "aggType": "",
       "arguments": {},
       "columnCustomDisplayInfos": {},
       "data": [
        [
         "5",
         "Escort",
         "77466.89",
         "17",
         "Ford",
         "17"
        ],
        [
         "2",
         "RDX",
         "95987.38",
         "1",
         "Acura",
         "1"
        ],
        [
         "1",
         "Avalon",
         "78401.95",
         "54",
         "Toyota",
         "54"
        ],
        [
         "8",
         "Civic",
         "84749.22",
         "20",
         "Honda",
         "20"
        ],
        [
         "9",
         "Defender",
         "98600.79",
         "29",
         "Land Rover",
         "29"
        ],
        [
         "4",
         "EX",
         "84981.12",
         "23",
         "Infiniti",
         "23"
        ],
        [
         "7",
         "Voyager",
         "95567.75",
         "42",
         "Plymouth",
         "42"
        ],
        [
         "6",
         "Expedition",
         "84698.71",
         "17",
         "Ford",
         "17"
        ],
        [
         "10",
         "V8 Vantage S",
         "94791.61",
         "2",
         "Aston Martin",
         "2"
        ],
        [
         "3",
         "Golf",
         "61274.55",
         "55",
         "Volkswagen",
         "55"
        ]
       ],
       "datasetInfos": [],
       "dbfsResultPath": null,
       "isJsonSchema": true,
       "metadata": {},
       "overflow": false,
       "plotOptions": {
        "customPlotOptions": {},
        "displayType": "table",
        "pivotAggregation": null,
        "pivotColumns": null,
        "xColumns": null,
        "yColumns": null
       },
       "removedWidgets": [],
       "schema": [
        {
         "metadata": "{}",
         "name": "id_carro",
         "type": "\"string\""
        },
        {
         "metadata": "{}",
         "name": "modelo_carro",
         "type": "\"string\""
        },
        {
         "metadata": "{}",
         "name": "preco",
         "type": "\"string\""
        },
        {
         "metadata": "{}",
         "name": "cod_marca",
         "type": "\"string\""
        },
        {
         "metadata": "{}",
         "name": "marca_carro",
         "type": "\"string\""
        },
        {
         "metadata": "{}",
         "name": "cod_marca",
         "type": "\"string\""
        }
       ],
       "type": "table"
      }
     },
     "output_type": "display_data"
    },
    {
     "output_type": "display_data",
     "data": {
      "text/html": [
       "<style scoped>\n",
       "  .table-result-container {\n",
       "    max-height: 300px;\n",
       "    overflow: auto;\n",
       "  }\n",
       "  table, th, td {\n",
       "    border: 1px solid black;\n",
       "    border-collapse: collapse;\n",
       "  }\n",
       "  th, td {\n",
       "    padding: 5px;\n",
       "  }\n",
       "  th {\n",
       "    text-align: left;\n",
       "  }\n",
       "</style><div class='table-result-container'><table class='table-result'><thead style='background-color: white'><tr><th>id_carro</th><th>modelo_carro</th><th>preco</th><th>cod_marca</th><th>marca_carro</th></tr></thead><tbody><tr><td>646</td><td>SLX</td><td>76518.37</td><td>1</td><td>Acura</td></tr><tr><td>852</td><td>Integra</td><td>54434.81</td><td>1</td><td>Acura</td></tr><tr><td>253</td><td>RSX</td><td>84861.40</td><td>1</td><td>Acura</td></tr><tr><td>638</td><td>Legend</td><td>47400.94</td><td>1</td><td>Acura</td></tr><tr><td>561</td><td>NSX</td><td>51341.45</td><td>1</td><td>Acura</td></tr><tr><td>343</td><td>SLX</td><td>67665.95</td><td>1</td><td>Acura</td></tr><tr><td>997</td><td>CL</td><td>81133.01</td><td>1</td><td>Acura</td></tr><tr><td>131</td><td>Integra</td><td>79011.63</td><td>1</td><td>Acura</td></tr><tr><td>60</td><td>RL</td><td>60125.97</td><td>1</td><td>Acura</td></tr><tr><td>601</td><td>NSX</td><td>63519.05</td><td>1</td><td>Acura</td></tr></tbody></table></div>"
      ]
     },
     "metadata": {
      "application/vnd.databricks.v1+output": {
       "addedWidgets": {},
       "aggData": [],
       "aggError": "",
       "aggOverflow": false,
       "aggSchema": [],
       "aggSeriesLimitReached": false,
       "aggType": "",
       "arguments": {},
       "columnCustomDisplayInfos": {},
       "data": [
        [
         "646",
         "SLX",
         "76518.37",
         "1",
         "Acura"
        ],
        [
         "852",
         "Integra",
         "54434.81",
         "1",
         "Acura"
        ],
        [
         "253",
         "RSX",
         "84861.40",
         "1",
         "Acura"
        ],
        [
         "638",
         "Legend",
         "47400.94",
         "1",
         "Acura"
        ],
        [
         "561",
         "NSX",
         "51341.45",
         "1",
         "Acura"
        ],
        [
         "343",
         "SLX",
         "67665.95",
         "1",
         "Acura"
        ],
        [
         "997",
         "CL",
         "81133.01",
         "1",
         "Acura"
        ],
        [
         "131",
         "Integra",
         "79011.63",
         "1",
         "Acura"
        ],
        [
         "60",
         "RL",
         "60125.97",
         "1",
         "Acura"
        ],
        [
         "601",
         "NSX",
         "63519.05",
         "1",
         "Acura"
        ]
       ],
       "datasetInfos": [],
       "dbfsResultPath": null,
       "isJsonSchema": true,
       "metadata": {},
       "overflow": false,
       "plotOptions": {
        "customPlotOptions": {},
        "displayType": "table",
        "pivotAggregation": null,
        "pivotColumns": null,
        "xColumns": null,
        "yColumns": null
       },
       "removedWidgets": [],
       "schema": [
        {
         "metadata": "{}",
         "name": "id_carro",
         "type": "\"string\""
        },
        {
         "metadata": "{}",
         "name": "modelo_carro",
         "type": "\"string\""
        },
        {
         "metadata": "{}",
         "name": "preco",
         "type": "\"string\""
        },
        {
         "metadata": "{}",
         "name": "cod_marca",
         "type": "\"string\""
        },
        {
         "metadata": "{}",
         "name": "marca_carro",
         "type": "\"string\""
        }
       ],
       "type": "table"
      }
     },
     "output_type": "display_data"
    }
   ],
   "source": [
    "df_carros_spark = df_carros.where(col(\"cod_marca\") != \"22\").distinct()\n",
    "\n",
    "df_carros_spark = df_carros_spark.join(\n",
    "    df_marca,\n",
    "    (df_carros_spark.cod_marca == df_marca.cod_marca),\n",
    "    \"inner\"\n",
    ")\n",
    "df_carros_spark.limit(10).display()\n",
    "\n",
    "\n",
    "df_carros_spark = df_carros.where(col(\"cod_marca\") != \"22\").distinct()\n",
    "\n",
    "df_carros_spark = df_carros_spark.join(\n",
    "    df_marca,\n",
    "    (df_carros_spark.cod_marca == df_marca.cod_marca),\n",
    "    \"left\"\n",
    ")\n",
    "df_carros_spark.limit(10).display()\n",
    "\n",
    "\n",
    "df_carros_spark = df_carros.where(col(\"cod_marca\") != \"22\").distinct()\n",
    "\n",
    "df_carros_spark = df_carros_spark.join(\n",
    "    df_marca,\n",
    "    (df_carros_spark.cod_marca == df_marca.cod_marca),\n",
    "    \"right\"\n",
    ").select(\n",
    "    df_carros_spark[\"*\"],\n",
    "    df_marca.marca_carro\n",
    ")\n",
    "\n",
    "\n",
    "\n",
    "\n",
    "df_carros_spark.limit(10).display()\n"
   ]
  },
  {
   "cell_type": "markdown",
   "metadata": {
    "application/vnd.databricks.v1+cell": {
     "cellMetadata": {
      "byteLimit": 2048000,
      "rowLimit": 10000
     },
     "inputWidgets": {},
     "nuid": "6ae2607f-defd-414a-9c51-23e39145c2d5",
     "showTitle": false,
     "title": ""
    }
   },
   "source": [
    "11 - Nulos"
   ]
  },
  {
   "cell_type": "code",
   "execution_count": 0,
   "metadata": {
    "application/vnd.databricks.v1+cell": {
     "cellMetadata": {
      "byteLimit": 2048000,
      "rowLimit": 10000
     },
     "inputWidgets": {},
     "nuid": "fc9be2ec-f75b-4a5c-aa30-506f031a33b5",
     "showTitle": false,
     "title": ""
    }
   },
   "outputs": [
    {
     "output_type": "display_data",
     "data": {
      "text/html": [
       "<style scoped>\n",
       "  .table-result-container {\n",
       "    max-height: 300px;\n",
       "    overflow: auto;\n",
       "  }\n",
       "  table, th, td {\n",
       "    border: 1px solid black;\n",
       "    border-collapse: collapse;\n",
       "  }\n",
       "  th, td {\n",
       "    padding: 5px;\n",
       "  }\n",
       "  th {\n",
       "    text-align: left;\n",
       "  }\n",
       "</style><div class='table-result-container'><table class='table-result'><thead style='background-color: white'><tr><th>id_carro</th><th>modelo_carro</th><th>preco</th><th>cod_marca</th></tr></thead><tbody><tr><td>3</td><td>Golf</td><td>61274.55</td><td>55</td></tr><tr><td>4</td><td>EX</td><td>84981.12</td><td>23</td></tr><tr><td>7</td><td>Voyager</td><td>95567.75</td><td>42</td></tr><tr><td>2</td><td>RDX</td><td>95987.38</td><td>1</td></tr><tr><td>8</td><td>Civic</td><td>84749.22</td><td>20</td></tr><tr><td>5</td><td>Escort</td><td>77466.89</td><td>17</td></tr><tr><td>1</td><td>Avalon</td><td>78401.95</td><td>54</td></tr><tr><td>6</td><td>Expedition</td><td>84698.71</td><td>17</td></tr><tr><td>9</td><td>Defender</td><td>98600.79</td><td>29</td></tr><tr><td>10</td><td>V8 Vantage S</td><td>94791.61</td><td>2</td></tr></tbody></table></div>"
      ]
     },
     "metadata": {
      "application/vnd.databricks.v1+output": {
       "addedWidgets": {},
       "aggData": [],
       "aggError": "",
       "aggOverflow": false,
       "aggSchema": [],
       "aggSeriesLimitReached": false,
       "aggType": "",
       "arguments": {},
       "columnCustomDisplayInfos": {},
       "data": [
        [
         "3",
         "Golf",
         "61274.55",
         "55"
        ],
        [
         "4",
         "EX",
         "84981.12",
         "23"
        ],
        [
         "7",
         "Voyager",
         "95567.75",
         "42"
        ],
        [
         "2",
         "RDX",
         "95987.38",
         "1"
        ],
        [
         "8",
         "Civic",
         "84749.22",
         "20"
        ],
        [
         "5",
         "Escort",
         "77466.89",
         "17"
        ],
        [
         "1",
         "Avalon",
         "78401.95",
         "54"
        ],
        [
         "6",
         "Expedition",
         "84698.71",
         "17"
        ],
        [
         "9",
         "Defender",
         "98600.79",
         "29"
        ],
        [
         "10",
         "V8 Vantage S",
         "94791.61",
         "2"
        ]
       ],
       "datasetInfos": [],
       "dbfsResultPath": null,
       "isJsonSchema": true,
       "metadata": {},
       "overflow": false,
       "plotOptions": {
        "customPlotOptions": {},
        "displayType": "table",
        "pivotAggregation": null,
        "pivotColumns": null,
        "xColumns": null,
        "yColumns": null
       },
       "removedWidgets": [],
       "schema": [
        {
         "metadata": "{}",
         "name": "id_carro",
         "type": "\"string\""
        },
        {
         "metadata": "{}",
         "name": "modelo_carro",
         "type": "\"string\""
        },
        {
         "metadata": "{}",
         "name": "preco",
         "type": "\"string\""
        },
        {
         "metadata": "{}",
         "name": "cod_marca",
         "type": "\"string\""
        }
       ],
       "type": "table"
      }
     },
     "output_type": "display_data"
    }
   ],
   "source": [
    "df_carros_spark = df_carros.where(\n",
    "  col(\"cod_marca\").isNotNull()\n",
    ")\n",
    "\n",
    "df_carros_spark.limit(10).display()"
   ]
  },
  {
   "cell_type": "markdown",
   "metadata": {
    "application/vnd.databricks.v1+cell": {
     "cellMetadata": {
      "byteLimit": 2048000,
      "rowLimit": 10000
     },
     "inputWidgets": {},
     "nuid": "7cc99c93-2c75-4cb6-821d-3450cc24f6b9",
     "showTitle": false,
     "title": ""
    }
   },
   "source": [
    "12 - Funcões de Agregação\n"
   ]
  },
  {
   "cell_type": "code",
   "execution_count": 0,
   "metadata": {
    "application/vnd.databricks.v1+cell": {
     "cellMetadata": {
      "byteLimit": 2048000,
      "rowLimit": 10000
     },
     "inputWidgets": {},
     "nuid": "de41d8ce-051b-4dfc-a65a-c394cabc2a0d",
     "showTitle": false,
     "title": ""
    }
   },
   "outputs": [
    {
     "output_type": "display_data",
     "data": {
      "text/html": [
       "<style scoped>\n",
       "  .table-result-container {\n",
       "    max-height: 300px;\n",
       "    overflow: auto;\n",
       "  }\n",
       "  table, th, td {\n",
       "    border: 1px solid black;\n",
       "    border-collapse: collapse;\n",
       "  }\n",
       "  th, td {\n",
       "    padding: 5px;\n",
       "  }\n",
       "  th {\n",
       "    text-align: left;\n",
       "  }\n",
       "</style><div class='table-result-container'><table class='table-result'><thead style='background-color: white'><tr><th>modelo_carro</th><th>Soma de Preco</th><th>Preco MAX</th><th>Preco MIN</th><th>Quantidade</th></tr></thead><tbody><tr><td>100</td><td>55023.26</td><td>55023.26</td><td>55023.26</td><td>1</td></tr><tr><td>1000</td><td>82354.14</td><td>82354.14</td><td>82354.14</td><td>1</td></tr><tr><td>1500</td><td>115833.18000000001</td><td>70293.96</td><td>45539.22</td><td>2</td></tr><tr><td>1500 Club Coupe</td><td>73878.68</td><td>73878.68</td><td>73878.68</td><td>1</td></tr><tr><td>200SX</td><td>76179.86</td><td>76179.86</td><td>76179.86</td><td>1</td></tr><tr><td>240</td><td>52885.44</td><td>52885.44</td><td>52885.44</td><td>1</td></tr><tr><td>240SX</td><td>256826.05000000002</td><td>94383.87</td><td>74588.41</td><td>3</td></tr><tr><td>2500</td><td>503800.18</td><td>94757.80</td><td>45557.06</td><td>7</td></tr><tr><td>2500 Club Coupe</td><td>68796.89</td><td>68796.89</td><td>68796.89</td><td>1</td></tr><tr><td>2CV</td><td>59625.57</td><td>59625.57</td><td>59625.57</td><td>1</td></tr></tbody></table></div>"
      ]
     },
     "metadata": {
      "application/vnd.databricks.v1+output": {
       "addedWidgets": {},
       "aggData": [],
       "aggError": "",
       "aggOverflow": false,
       "aggSchema": [],
       "aggSeriesLimitReached": false,
       "aggType": "",
       "arguments": {},
       "columnCustomDisplayInfos": {},
       "data": [
        [
         "100",
         55023.26,
         "55023.26",
         "55023.26",
         1
        ],
        [
         "1000",
         82354.14,
         "82354.14",
         "82354.14",
         1
        ],
        [
         "1500",
         115833.18000000001,
         "70293.96",
         "45539.22",
         2
        ],
        [
         "1500 Club Coupe",
         73878.68,
         "73878.68",
         "73878.68",
         1
        ],
        [
         "200SX",
         76179.86,
         "76179.86",
         "76179.86",
         1
        ],
        [
         "240",
         52885.44,
         "52885.44",
         "52885.44",
         1
        ],
        [
         "240SX",
         256826.05000000002,
         "94383.87",
         "74588.41",
         3
        ],
        [
         "2500",
         503800.18,
         "94757.80",
         "45557.06",
         7
        ],
        [
         "2500 Club Coupe",
         68796.89,
         "68796.89",
         "68796.89",
         1
        ],
        [
         "2CV",
         59625.57,
         "59625.57",
         "59625.57",
         1
        ]
       ],
       "datasetInfos": [],
       "dbfsResultPath": null,
       "isJsonSchema": true,
       "metadata": {},
       "overflow": false,
       "plotOptions": {
        "customPlotOptions": {},
        "displayType": "table",
        "pivotAggregation": null,
        "pivotColumns": null,
        "xColumns": null,
        "yColumns": null
       },
       "removedWidgets": [],
       "schema": [
        {
         "metadata": "{}",
         "name": "modelo_carro",
         "type": "\"string\""
        },
        {
         "metadata": "{}",
         "name": "Soma de Preco",
         "type": "\"double\""
        },
        {
         "metadata": "{}",
         "name": "Preco MAX",
         "type": "\"string\""
        },
        {
         "metadata": "{}",
         "name": "Preco MIN",
         "type": "\"string\""
        },
        {
         "metadata": "{}",
         "name": "Quantidade",
         "type": "\"long\""
        }
       ],
       "type": "table"
      }
     },
     "output_type": "display_data"
    }
   ],
   "source": [
    "df_carros_spark = df_carros.groupBy(\n",
    "    \"modelo_carro\"\n",
    ").agg(\n",
    "    sum(\"preco\").alias(\"Soma de Preco\"),\n",
    "    max(\"preco\").alias(\"Preco MAX\"),\n",
    "    min(\"preco\").alias(\"Preco MIN\"),\n",
    "    count(\"modelo_carro\").alias(\"Quantidade\")\n",
    ")\n",
    "\n",
    "df_carros_spark.limit(10).display()"
   ]
  },
  {
   "cell_type": "markdown",
   "metadata": {
    "application/vnd.databricks.v1+cell": {
     "cellMetadata": {
      "byteLimit": 2048000,
      "rowLimit": 10000
     },
     "inputWidgets": {},
     "nuid": "69fbb24d-bb2d-4778-bde0-1a2c125c1c80",
     "showTitle": false,
     "title": ""
    }
   },
   "source": [
    "Row Number"
   ]
  },
  {
   "cell_type": "code",
   "execution_count": 0,
   "metadata": {
    "application/vnd.databricks.v1+cell": {
     "cellMetadata": {
      "byteLimit": 2048000,
      "rowLimit": 10000
     },
     "inputWidgets": {},
     "nuid": "ea68d1ac-7c6c-4cb7-858a-21137d0e2c49",
     "showTitle": false,
     "title": ""
    }
   },
   "outputs": [
    {
     "output_type": "display_data",
     "data": {
      "text/html": [
       "<style scoped>\n",
       "  .table-result-container {\n",
       "    max-height: 300px;\n",
       "    overflow: auto;\n",
       "  }\n",
       "  table, th, td {\n",
       "    border: 1px solid black;\n",
       "    border-collapse: collapse;\n",
       "  }\n",
       "  th, td {\n",
       "    padding: 5px;\n",
       "  }\n",
       "  th {\n",
       "    text-align: left;\n",
       "  }\n",
       "</style><div class='table-result-container'><table class='table-result'><thead style='background-color: white'><tr><th>id_carro</th><th>modelo_carro</th><th>preco</th><th>cod_marca</th><th>row_number</th></tr></thead><tbody><tr><td>117</td><td>100</td><td>55023.26</td><td>3</td><td>1</td></tr><tr><td>71</td><td>1000</td><td>82354.14</td><td>43</td><td>1</td></tr><tr><td>634</td><td>1500</td><td>45539.22</td><td>18</td><td>1</td></tr><tr><td>57</td><td>1500</td><td>70293.96</td><td>10</td><td>2</td></tr><tr><td>882</td><td>1500 Club Coupe</td><td>73878.68</td><td>18</td><td>1</td></tr><tr><td>690</td><td>200SX</td><td>76179.86</td><td>40</td><td>1</td></tr><tr><td>171</td><td>240</td><td>52885.44</td><td>56</td><td>1</td></tr><tr><td>891</td><td>240SX</td><td>74588.41</td><td>40</td><td>1</td></tr><tr><td>136</td><td>240SX</td><td>87853.77</td><td>40</td><td>2</td></tr><tr><td>283</td><td>240SX</td><td>94383.87</td><td>40</td><td>3</td></tr></tbody></table></div>"
      ]
     },
     "metadata": {
      "application/vnd.databricks.v1+output": {
       "addedWidgets": {},
       "aggData": [],
       "aggError": "",
       "aggOverflow": false,
       "aggSchema": [],
       "aggSeriesLimitReached": false,
       "aggType": "",
       "arguments": {},
       "columnCustomDisplayInfos": {},
       "data": [
        [
         "117",
         "100",
         "55023.26",
         "3",
         1
        ],
        [
         "71",
         "1000",
         "82354.14",
         "43",
         1
        ],
        [
         "634",
         "1500",
         "45539.22",
         "18",
         1
        ],
        [
         "57",
         "1500",
         "70293.96",
         "10",
         2
        ],
        [
         "882",
         "1500 Club Coupe",
         "73878.68",
         "18",
         1
        ],
        [
         "690",
         "200SX",
         "76179.86",
         "40",
         1
        ],
        [
         "171",
         "240",
         "52885.44",
         "56",
         1
        ],
        [
         "891",
         "240SX",
         "74588.41",
         "40",
         1
        ],
        [
         "136",
         "240SX",
         "87853.77",
         "40",
         2
        ],
        [
         "283",
         "240SX",
         "94383.87",
         "40",
         3
        ]
       ],
       "datasetInfos": [],
       "dbfsResultPath": null,
       "isJsonSchema": true,
       "metadata": {},
       "overflow": false,
       "plotOptions": {
        "customPlotOptions": {},
        "displayType": "table",
        "pivotAggregation": null,
        "pivotColumns": null,
        "xColumns": null,
        "yColumns": null
       },
       "removedWidgets": [],
       "schema": [
        {
         "metadata": "{}",
         "name": "id_carro",
         "type": "\"string\""
        },
        {
         "metadata": "{}",
         "name": "modelo_carro",
         "type": "\"string\""
        },
        {
         "metadata": "{}",
         "name": "preco",
         "type": "\"string\""
        },
        {
         "metadata": "{}",
         "name": "cod_marca",
         "type": "\"string\""
        },
        {
         "metadata": "{}",
         "name": "row_number",
         "type": "\"integer\""
        }
       ],
       "type": "table"
      }
     },
     "output_type": "display_data"
    }
   ],
   "source": [
    "df_carros_spark = df_carros.withColumn(\n",
    "    \"row_number\", row_number().over(Window.partitionBy(\"modelo_carro\").orderBy(\"preco\"))\n",
    ")\n",
    "\n",
    "df_carros_spark.limit(10).display()"
   ]
  }
 ],
 "metadata": {
  "application/vnd.databricks.v1+notebook": {
   "dashboards": [],
   "environmentMetadata": null,
   "language": "python",
   "notebookMetadata": {
    "mostRecentlyExecutedCommandWithImplicitDF": {
     "commandId": 414647058771284,
     "dataframes": [
      "_sqldf"
     ]
    },
    "pythonIndentUnit": 4
   },
   "notebookName": "PySpark Teste",
   "widgets": {}
  }
 },
 "nbformat": 4,
 "nbformat_minor": 0
}
